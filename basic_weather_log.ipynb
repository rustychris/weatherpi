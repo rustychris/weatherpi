{
 "metadata": {
  "name": "",
  "signature": "sha256:143757f1bdc22ac038ce0a125012c682f61c093586d77515abbbdb465f68b277"
 },
 "nbformat": 3,
 "nbformat_minor": 0,
 "worksheets": [
  {
   "cells": [
    {
     "cell_type": "code",
     "collapsed": false,
     "input": [
      "import smbus\n",
      "from RPiSensors import htu21d\n",
      "import requests\n",
      "import logging\n",
      "import time\n",
      "import logging.handlers\n",
      "\n",
      "# settings\n",
      "# Publishing to data.sparkfun.com\n",
      "public_url=\"http://data.sparkfun.com/streams/MGvanEzE4vsZRlEj1Ygw\"\n",
      "public_key=\"MGvanEzE4vsZRlEj1Ygw\"\n",
      "private_key=\"nzombegeDoIgbZdnPGwM\"\n",
      "delete_key=\"3ZlLrdgd1lcVQaW6wY1x\"\n",
      "\n",
      "bus_num=1 # some boards it's 0."
     ],
     "language": "python",
     "metadata": {},
     "outputs": [],
     "prompt_number": 16
    },
    {
     "cell_type": "code",
     "collapsed": false,
     "input": [
      "# Set up logging\n",
      "log=logging.getLogger('weather')\n",
      "log.setLevel(logging.INFO)\n",
      "log.handlers=[] # log is persistent!\n",
      "fh=logging.handlers.RotatingFileHandler('weather.log',maxBytes=1024**3,\n",
      "                                        backupCount=3)\n",
      "\n",
      "fh.setLevel(logging.INFO)\n",
      "formatter = logging.Formatter('%(asctime)s - %(name)s - %(levelname)s - %(message)s')\n",
      "fh.setFormatter(formatter)\n",
      "log.addHandler(fh)"
     ],
     "language": "python",
     "metadata": {},
     "outputs": [],
     "prompt_number": 2
    },
    {
     "cell_type": "code",
     "collapsed": false,
     "input": [
      "import mpl3115a2\n",
      "log.info('Testing MPL3115a2')\n",
      "mpl3115=mpl3115a2.Mpl3115A2()\n",
      "for i in range(2):\n",
      "    press,temp=mpl3115.press_temp()\n",
      "    log.info('Pressure=%.2f temp=%.3f'%(press,temp))\n"
     ],
     "language": "python",
     "metadata": {},
     "outputs": [
      {
       "output_type": "stream",
       "stream": "stderr",
       "text": [
        "INFO:weather:Testing MPL3115a2\n"
       ]
      },
      {
       "output_type": "stream",
       "stream": "stderr",
       "text": [
        "INFO:weather:Pressure=100888.250000 temp=22.625000\n"
       ]
      },
      {
       "output_type": "stream",
       "stream": "stderr",
       "text": [
        "INFO:weather:Pressure=100885.750000 temp=22.625000\n"
       ]
      }
     ],
     "prompt_number": 4
    },
    {
     "cell_type": "code",
     "collapsed": false,
     "input": [
      "log.info('Initializing HTU21D')\n",
      "sensor = htu21d.Htu21d(bus_num,use_temperature=True)\n",
      "log.info('Humidity %.3f'%sensor.humidity)\n",
      "log.info('Temp %.3f'%sensor.temperature)"
     ],
     "language": "python",
     "metadata": {},
     "outputs": [
      {
       "output_type": "stream",
       "stream": "stderr",
       "text": [
        "INFO:weather:Initializing HTU21D\n"
       ]
      },
      {
       "output_type": "stream",
       "stream": "stderr",
       "text": [
        "INFO:weather:Humidity 52.800\n"
       ]
      },
      {
       "output_type": "stream",
       "stream": "stderr",
       "text": [
        "INFO:weather:Temp 23.217\n"
       ]
      }
     ],
     "prompt_number": 5
    },
    {
     "cell_type": "code",
     "collapsed": false,
     "input": [
      "import ads1115\n",
      "reload(ads1115)\n",
      "from ads1115 import ADS1115\n",
      "\n",
      "class LightSensor(object):\n",
      "    def __init__(self):\n",
      "        self.adc=ADS1115()\n",
      "    def light_raw(self):\n",
      "        return self.adc.read_adc(channel=0)\n",
      "    def light_lux(self):\n",
      "        # total fiction!\n",
      "        # figure that the saturation level 3.3V  - 0.4 = 2.9V\n",
      "        # that's something like 10,000 lux.\n",
      "        # what's the reference for the ADC? \n",
      "        return self.light_raw() / 10. \n",
      "    \n",
      "# first it read 661\n",
      "# with an extra light on, gets 700.\n",
      "log.info('Initialize light sensor')\n",
      "light=LightSensor()\n",
      "log.info('Light level: %.3f'%light.light_lux())"
     ],
     "language": "python",
     "metadata": {},
     "outputs": [
      {
       "output_type": "stream",
       "stream": "stderr",
       "text": [
        "INFO:weather:Initialize light sensor\n"
       ]
      },
      {
       "output_type": "stream",
       "stream": "stderr",
       "text": [
        "INFO:weather:Light level: 22.800\n"
       ]
      }
     ],
     "prompt_number": 13
    },
    {
     "cell_type": "code",
     "collapsed": false,
     "input": [
      "def Tconv(degc):\n",
      "    return 32.0 + 9./5*degc\n",
      "\n",
      "def publish():\n",
      "    params=dict(private_key=private_key)\n",
      "    try:\n",
      "        params['humidity']=sensor.humidity\n",
      "        params['temp1']=Tconv(sensor.temperature)\n",
      "        params['pressure'],temp2=mpl3115.press_temp()\n",
      "        params['temp2']=Tconv(temp2)\n",
      "        params['lux']=light.light_lux()\n",
      "    except Exception as exc:\n",
      "        log.error('Failed to read sensor(s)')\n",
      "        log.error(str(exc))\n",
      "        return\n",
      "    url=(\"http://data.sparkfun.com/input/\" + public_key)\n",
      "    try:\n",
      "        resp=requests.get(url,params=params)\n",
      "    except Exception as exc:\n",
      "        log.error('Failed to publish data')\n",
      "        log.error(str(exc))\n",
      "        return\n",
      "    log.info('Read/publish successful %.1f %.1f %.0f %.1f %.1f'%(params['humidity'],\n",
      "                                                                 params['temp1'],\n",
      "                                                                 params['pressure'],\n",
      "                                                                 params['temp2'],\n",
      "                                                                 params['lux']))"
     ],
     "language": "python",
     "metadata": {},
     "outputs": [],
     "prompt_number": 19
    },
    {
     "cell_type": "code",
     "collapsed": false,
     "input": [
      "publish()"
     ],
     "language": "python",
     "metadata": {},
     "outputs": [
      {
       "output_type": "stream",
       "stream": "stderr",
       "text": [
        "INFO:weather:Read/publish successful 52.9 73.8 100891 72.7 22.8\n"
       ]
      }
     ],
     "prompt_number": 20
    },
    {
     "cell_type": "code",
     "collapsed": false,
     "input": [
      "while 1:\n",
      "    try:\n",
      "        publish()\n",
      "    except Exception as exc:\n",
      "        print \"Got an exception\"\n",
      "        print exc\n",
      "    time.sleep(120)"
     ],
     "language": "python",
     "metadata": {},
     "outputs": []
    }
   ],
   "metadata": {}
  }
 ]
}