{
 "metadata": {
  "name": "",
  "signature": "sha256:8583326caa77ae15785b1d6d742b4c59372ab157d80060684ff1e1f0e42a7365"
 },
 "nbformat": 3,
 "nbformat_minor": 0,
 "worksheets": [
  {
   "cells": [
    {
     "cell_type": "code",
     "collapsed": false,
     "input": [
      "import smbus\n",
      "from RPiSensors import htu21d\n",
      "import requests\n",
      "import logging\n"
     ],
     "language": "python",
     "metadata": {},
     "outputs": [],
     "prompt_number": 42
    },
    {
     "cell_type": "code",
     "collapsed": false,
     "input": [
      "log.handlers"
     ],
     "language": "python",
     "metadata": {},
     "outputs": [
      {
       "metadata": {},
       "output_type": "pyout",
       "prompt_number": 48,
       "text": [
        "[<logging.FileHandler at 0xb2102410>,\n",
        " <logging.handlers.RotatingFileHandler at 0xb2011850>]"
       ]
      }
     ],
     "prompt_number": 48
    },
    {
     "cell_type": "code",
     "collapsed": false,
     "input": [
      "# Set up logging\n",
      "log=logging.getLogger('weather')\n",
      "log.setLevel(logging.INFO)\n",
      "log.handlers=[] # log is persistent!\n",
      "fh=logging.handlers.RotatingFileHandler('weather.log',maxBytes=1024**3,\n",
      "                                        backupCount=3)\n",
      "\n",
      "fh.setLevel(logging.INFO)\n",
      "formatter = logging.Formatter('%(asctime)s - %(name)s - %(levelname)s - %(message)s')\n",
      "fh.setFormatter(formatter)\n",
      "log.addHandler(fh)"
     ],
     "language": "python",
     "metadata": {},
     "outputs": [],
     "prompt_number": 49
    },
    {
     "cell_type": "code",
     "collapsed": false,
     "input": [
      "bus_num=1 # some boards it's 0."
     ],
     "language": "python",
     "metadata": {},
     "outputs": [],
     "prompt_number": 46
    },
    {
     "cell_type": "code",
     "collapsed": false,
     "input": [
      "import mpl3115a2\n",
      "log.info('Testing MPL3115a2')\n",
      "mpl3115=mpl3115a2.Mpl3115A2()\n",
      "for i in range(2):\n",
      "    press,temp=mpl3115.press_temp()\n",
      "    log.info('Pressure=%f temp=%f'%(press,temp))\n"
     ],
     "language": "python",
     "metadata": {},
     "outputs": [
      {
       "output_type": "stream",
       "stream": "stderr",
       "text": [
        "INFO:weather:Testing MPL3115a2\n"
       ]
      },
      {
       "output_type": "stream",
       "stream": "stderr",
       "text": [
        "INFO:weather:Pressure=100885.750000 temp=22.625000\n"
       ]
      },
      {
       "output_type": "stream",
       "stream": "stderr",
       "text": [
        "INFO:weather:Pressure=100886.000000 temp=22.625000\n"
       ]
      }
     ],
     "prompt_number": 50
    },
    {
     "cell_type": "code",
     "collapsed": false,
     "input": [
      "sensor = htu21d.Htu21d(bus_num,use_temperature=True)\n",
      "print sensor.humidity\n",
      "print 32+9./5 * sensor.temperature"
     ],
     "language": "python",
     "metadata": {},
     "outputs": [
      {
       "output_type": "stream",
       "stream": "stdout",
       "text": [
        "43.8733520508\n",
        "80.9143232422"
       ]
      },
      {
       "output_type": "stream",
       "stream": "stdout",
       "text": [
        "\n"
       ]
      }
     ],
     "prompt_number": 5
    },
    {
     "cell_type": "code",
     "collapsed": false,
     "input": [
      "# And the ADS1115!\n",
      "address=0x48\n",
      "\n"
     ],
     "language": "python",
     "metadata": {},
     "outputs": []
    },
    {
     "cell_type": "code",
     "collapsed": false,
     "input": [
      "# Copyright (c) 2016 Adafruit Industries\n",
      "# Author: Tony DiCola\n",
      "# Modified by Rusty Holleman\n",
      "#\n",
      "# Permission is hereby granted, free of charge, to any person obtaining a copy\n",
      "# of this software and associated documentation files (the \"Software\"), to deal\n",
      "# in the Software without restriction, including without limitation the rights\n",
      "# to use, copy, modify, merge, publish, distribute, sublicense, and/or sell\n",
      "# copies of the Software, and to permit persons to whom the Software is\n",
      "# furnished to do so, subject to the following conditions:\n",
      "#\n",
      "# The above copyright notice and this permission notice shall be included in\n",
      "# all copies or substantial portions of the Software.\n",
      "#\n",
      "# THE SOFTWARE IS PROVIDED \"AS IS\", WITHOUT WARRANTY OF ANY KIND, EXPRESS OR\n",
      "# IMPLIED, INCLUDING BUT NOT LIMITED TO THE WARRANTIES OF MERCHANTABILITY,\n",
      "# FITNESS FOR A PARTICULAR PURPOSE AND NONINFRINGEMENT. IN NO EVENT SHALL THE\n",
      "# AUTHORS OR COPYRIGHT HOLDERS BE LIABLE FOR ANY CLAIM, DAMAGES OR OTHER\n",
      "# LIABILITY, WHETHER IN AN ACTION OF CONTRACT, TORT OR OTHERWISE, ARISING FROM,\n",
      "# OUT OF OR IN CONNECTION WITH THE SOFTWARE OR THE USE OR OTHER DEALINGS IN\n",
      "# THE SOFTWARE.\n",
      "\n",
      "import time\n",
      "\n",
      "class ADS1115(object):\n",
      "    \"\"\"Base functionality for ADS1x15 analog to digital converters.\"\"\"\n",
      "    # Register and other configuration values:\n",
      "    DEFAULT_ADDRESS        = 0x48\n",
      "    POINTER_CONVERSION     = 0x00\n",
      "    POINTER_CONFIG         = 0x01\n",
      "    POINTER_LOW_THRESHOLD  = 0x02\n",
      "    POINTER_HIGH_THRESHOLD = 0x03\n",
      "    CONFIG_OS_SINGLE       = 0x8000\n",
      "    CONFIG_MUX_OFFSET      = 12\n",
      "    # Mapping of gain values to config register values.\n",
      "    CONFIG_GAIN = {\n",
      "        2./3: 0x0000,\n",
      "        1:   0x0200,\n",
      "        2:   0x0400,\n",
      "        4:   0x0600,\n",
      "        8:   0x0800,\n",
      "        16:  0x0A00\n",
      "    }\n",
      "    CONFIG_MODE_CONTINUOUS  = 0x0000\n",
      "    CONFIG_MODE_SINGLE      = 0x0100\n",
      "    # Mapping of data/sample rate to config register values for ADS1115 (slower).\n",
      "    CONFIG_DR = {\n",
      "        8:    0x0000,\n",
      "        16:   0x0020,\n",
      "        32:   0x0040,\n",
      "        64:   0x0060,\n",
      "        128:  0x0080,\n",
      "        250:  0x00A0,\n",
      "        475:  0x00C0,\n",
      "        860:  0x00E0\n",
      "    }\n",
      "    CONFIG_COMP_WINDOW      = 0x0010\n",
      "    CONFIG_COMP_ACTIVE_HIGH = 0x0008\n",
      "    CONFIG_COMP_LATCHING    = 0x0004\n",
      "    CONFIG_COMP_QUE = {\n",
      "        1: 0x0000,\n",
      "        2: 0x0001,\n",
      "        4: 0x0002\n",
      "    }\n",
      "    CONFIG_COMP_QUE_DISABLE = 0x0003\n",
      "\n",
      "    def __init__(self, address=None, bus_num=1, **kwargs):\n",
      "        if address is None:\n",
      "            address=self.DEFAULT_ADDRESS\n",
      "        self.address=address\n",
      "        self.bus=smbus.SMBus(bus_num)\n",
      "\n",
      "    def _read(self, mux, gain, data_rate, mode):\n",
      "        \"\"\"Perform an ADC read with the provided mux, gain, data_rate, and mode\n",
      "        values.  Returns the signed integer result of the read.\n",
      "        \"\"\"\n",
      "        config = self.CONFIG_OS_SINGLE  # Go out of power-down mode for conversion.\n",
      "        # Specify mux value.\n",
      "        config |= (mux & 0x07) << self.CONFIG_MUX_OFFSET\n",
      "        # Validate the passed in gain and then set it in the config.\n",
      "        if gain not in self.CONFIG_GAIN:\n",
      "            raise ValueError('Gain must be one of: 2./3, 1, 2, 4, 8, 16')\n",
      "        config |= self.CONFIG_GAIN[gain]\n",
      "        # Set the mode (continuous or single shot).\n",
      "        config |= mode\n",
      "        # Get the default data rate if none is specified (default differs between\n",
      "        # ADS1015 and ADS1115).\n",
      "        if data_rate is None:\n",
      "            data_rate = self._data_rate_default()\n",
      "        # Set the data rate (this is controlled by the subclass as it differs\n",
      "        # between ADS1015 and ADS1115).\n",
      "        config |= self._data_rate_config(data_rate)\n",
      "        config |= self.CONFIG_COMP_QUE_DISABLE  # Disable comparator mode.\n",
      "        # Send the config value to start the ADC conversion.\n",
      "        # Explicitly break the 16-bit value down to a big endian pair of bytes.\n",
      "        self._device_writeList(self.POINTER_CONFIG, \n",
      "                               [(config >> 8) & 0xFF, config & 0xFF])\n",
      "        # Wait for the ADC sample to finish based on the sample rate plus a\n",
      "        # small offset to be sure (0.1 millisecond).\n",
      "        time.sleep(1.0/data_rate+0.0001)\n",
      "        # Retrieve the result.\n",
      "        result = self._device_readList(self.POINTER_CONVERSION, 2)\n",
      "        return self._conversion_value(result[1], result[0])\n",
      "\n",
      "    def _device_writeList(self,register,values):\n",
      "        self.bus.write_i2c_block_data(self.address, register, values)\n",
      "    def _device_readList(self,register,nbytes):\n",
      "        return self.bus.read_i2c_block_data(self.address,register,nbytes)    \n",
      "    def read_adc(self, channel, gain=1, data_rate=None):\n",
      "        \"\"\"Read a single ADC channel and return the ADC value as a signed integer\n",
      "        result.  Channel must be a value within 0-3.\n",
      "        \"\"\"\n",
      "        assert 0 <= channel <= 3, 'Channel must be a value within 0-3!'\n",
      "        # Perform a single shot read and set the mux value to the channel plus\n",
      "        # the highest bit (bit 3) set.\n",
      "        return self._read(channel + 0x04, gain, data_rate, self.CONFIG_MODE_SINGLE)\n",
      "    def _data_rate_default(self):\n",
      "        # Default from datasheet page 16, config register DR bit default.\n",
      "        return 128\n",
      "\n",
      "    def _data_rate_config(self, data_rate):\n",
      "        if data_rate not in self.CONFIG_DR:\n",
      "            raise ValueError('Data rate must be one of: 8, 16, 32, 64, 128, 250, 475, 860')\n",
      "        return self.CONFIG_DR[data_rate]\n",
      "\n",
      "    def _conversion_value(self, low, high):\n",
      "        # Convert to 16-bit signed value.\n",
      "        value = ((high & 0xFF) << 8) | (low & 0xFF)\n",
      "        # Check for sign bit and turn into a negative value if set.\n",
      "        if value & 0x8000 != 0:\n",
      "            value -= 1 << 16\n",
      "        return value\n",
      "\n",
      "\n",
      "class LightSensor(object):\n",
      "    def __init__(self):\n",
      "        self.adc=ADS1115()\n",
      "    def light_raw(self):\n",
      "        return adc.read_adc(channel=0)\n",
      "    def light_lux(self):\n",
      "        # total fiction!\n",
      "        # figure that the saturation level 3.3V  - 0.4 = 2.9V\n",
      "        # that's something like 10,000 lux.\n",
      "        # what's the reference for the ADC? \n",
      "        return self.light_raw() / 10. \n",
      "    \n",
      "# first it read 661\n",
      "# with an extra light on, gets 700.\n",
      "light=LightSensor()\n",
      "for i in range(10):\n",
      "    print light.light_lux()"
     ],
     "language": "python",
     "metadata": {},
     "outputs": [
      {
       "output_type": "stream",
       "stream": "stdout",
       "text": [
        "74.8\n",
        "74.5\n",
        "74.6\n",
        "74.7\n",
        "74.8\n",
        "74.7"
       ]
      },
      {
       "output_type": "stream",
       "stream": "stdout",
       "text": [
        "\n",
        "74.6\n",
        "74.6\n",
        "74.5\n",
        "74.7\n"
       ]
      }
     ],
     "prompt_number": 29
    },
    {
     "cell_type": "code",
     "collapsed": false,
     "input": [
      "# Publishing to data.sparkfun.com\n",
      "public_url=\"http://data.sparkfun.com/streams/MGvanEzE4vsZRlEj1Ygw\"\n",
      "public_key=\"MGvanEzE4vsZRlEj1Ygw\"\n",
      "private_key=\"nzombegeDoIgbZdnPGwM\"\n",
      "delete_key=\"3ZlLrdgd1lcVQaW6wY1x\"\n",
      "\n",
      "def publish():\n",
      "    params=dict(private_key=private_key)\n",
      "    params['humidity']=sensor.humidity\n",
      "    params['temp1']=sensor.temperature\n",
      "    params['pressure'],params['temp2']=mpl3115.press_temp()\n",
      "    params['lux']=light.light_lux()\n",
      "    \n",
      "    url=(\"http://data.sparkfun.com/input/\" + public_key)\n",
      "    resp=requests.get(url,params=params)\n",
      "    # print resp.url"
     ],
     "language": "python",
     "metadata": {},
     "outputs": []
    },
    {
     "cell_type": "code",
     "collapsed": false,
     "input": [
      "while 1:\n",
      "    try:\n",
      "        publish()\n",
      "    except Exception as exc:\n",
      "        print \"Got an exception\"\n",
      "        print exc\n",
      "    time.sleep(120)"
     ],
     "language": "python",
     "metadata": {},
     "outputs": []
    }
   ],
   "metadata": {}
  }
 ]
}