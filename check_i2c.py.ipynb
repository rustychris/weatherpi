{
 "metadata": {
  "name": "",
  "signature": "sha256:9b80601ec7a6789c8a9e234deaf8c7bbdd3148ed4ffdaf2d197c7a48bf5ee189"
 },
 "nbformat": 3,
 "nbformat_minor": 0,
 "worksheets": [
  {
   "cells": [
    {
     "cell_type": "code",
     "collapsed": false,
     "input": [
      "import smbus\n",
      "from RPiSensors import htu21d\n"
     ],
     "language": "python",
     "metadata": {},
     "outputs": [],
     "prompt_number": 1
    },
    {
     "cell_type": "code",
     "collapsed": false,
     "input": [
      "bus_num=1 # some boards it's 0.\n",
      "# bus=smbus.SMBus(bus_num)\n",
      "adc_address=0x48\n",
      "#htu_address=0x40 # humidity, temperature\n",
      "#pres_address=0x60 # pressure, temperature"
     ],
     "language": "python",
     "metadata": {},
     "outputs": [],
     "prompt_number": 2
    },
    {
     "cell_type": "code",
     "collapsed": false,
     "input": [
      "# First, can we read the humidity sensor.\n",
      "\n",
      "\n",
      "#DEVICE_REG_MODE1 = 0x00\n",
      "#DEVICE_REG_LEDOUT0 = 0x1d\n",
      "\n",
      "#Write a single register\n",
      "#bus.write_byte_data(DEVICE_ADDRESS, DEVICE_REG_MODE1, 0x80)\n",
      "\n",
      "#Write an array of registers\n",
      "#ledout_values = [0xff, 0xff, 0xff, 0xff, 0xff, 0xff]\n",
      "#bus.write_i2c_block_data(DEVICE_ADDRESS, DEVICE_REG_LEDOUT0, ledout_values)"
     ],
     "language": "python",
     "metadata": {},
     "outputs": [],
     "prompt_number": 3
    },
    {
     "cell_type": "code",
     "collapsed": false,
     "input": [
      "import mpl3115a2\n",
      "mpl3115=mpl3115a2.Mpl3115A2()\n",
      "for i in range(5):\n",
      "    print mpl3115.press_temp()\n"
     ],
     "language": "python",
     "metadata": {},
     "outputs": [
      {
       "output_type": "stream",
       "stream": "stdout",
       "text": [
        "(100867.75, 24.6875)\n",
        "(100868.75, 24.75)"
       ]
      },
      {
       "output_type": "stream",
       "stream": "stdout",
       "text": [
        "\n",
        "(100866.75, 24.75)"
       ]
      },
      {
       "output_type": "stream",
       "stream": "stdout",
       "text": [
        "\n",
        "(100870.0, 24.8125)"
       ]
      },
      {
       "output_type": "stream",
       "stream": "stdout",
       "text": [
        "\n",
        "(100868.5, 24.8125)"
       ]
      },
      {
       "output_type": "stream",
       "stream": "stdout",
       "text": [
        "\n"
       ]
      }
     ],
     "prompt_number": 17
    },
    {
     "cell_type": "code",
     "collapsed": false,
     "input": [
      "32+9./5 * temperature() "
     ],
     "language": "python",
     "metadata": {},
     "outputs": [
      {
       "output_type": "stream",
       "stream": "stdout",
       "text": [
        "24 48\n"
       ]
      },
      {
       "metadata": {},
       "output_type": "pyout",
       "prompt_number": 10,
       "text": [
        "75.5375"
       ]
      }
     ],
     "prompt_number": 10
    },
    {
     "cell_type": "code",
     "collapsed": false,
     "input": [
      "sensor = htu21d.Htu21d(bus_num,use_temperature=True)\n",
      "print sensor.humidity\n",
      "print 32+9./5 * sensor.temperature"
     ],
     "language": "python",
     "metadata": {},
     "outputs": [
      {
       "output_type": "stream",
       "stream": "stdout",
       "text": [
        "43.8733520508\n",
        "80.9143232422"
       ]
      },
      {
       "output_type": "stream",
       "stream": "stdout",
       "text": [
        "\n"
       ]
      }
     ],
     "prompt_number": 5
    }
   ],
   "metadata": {}
  }
 ]
}